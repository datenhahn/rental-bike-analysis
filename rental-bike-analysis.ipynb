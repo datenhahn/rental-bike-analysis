{
 "cells": [
  {
   "cell_type": "markdown",
   "metadata": {},
   "source": [
    "# Dataset \"Rides on the MVG bike\"\n",
    "\n",
    "https://opendata.muenchen.de/dataset/fahrten-mit-dem-mvg-rad\n",
    "\n",
    "This data record includes anonymized raw data from trips with MVG bikes. The following data can be downloaded, viewed and evaluated for each bike rental:\n",
    "\n",
    "* Start date and time of the loan\n",
    "* End date and time of the loan\n",
    "* Loan start coordinates\n",
    "* Coordinates rental end\n",
    "* Rental start station-based or free-floating\n",
    "* Possibly station name\n",
    "* Rental end station based or free floating\n",
    "* Possibly station name\n",
    "\n",
    "The data is always provided for an entire year. The upload takes place with a certain time lag of about 5-6 months, so that the data is available in May or June of the following year."
   ]
  },
  {
   "cell_type": "code",
   "execution_count": 2,
   "metadata": {},
   "outputs": [
    {
     "name": "stderr",
     "output_type": "stream",
     "text": [
      "DEBUG:jupyter_black:config: {'line_length': 120, 'target_versions': {<TargetVersion.PY310: 10>}}\n"
     ]
    },
    {
     "data": {
      "application/javascript": [
       "\n",
       "            (function() {\n",
       "                jb_set_cell(\"# Calculate distance between rental and return\\nfrom geopy.distance import geodesic\\n\\n\\ndef distance(row):\\n    \\\"\\\"\\\"\\n    Calculate the distance between two points (in meters) using their latitudes and longitudes.\\n\\n    :param row: A pandas dataframe row containing the latitudes and longitudes of the start and end points.\\n                (columns: STARTLAT, STARTLON, ENDLAT, ENDLON)\\n    :return: The distance between the start and end points, in meters.\\n    \\\"\\\"\\\"\\n    row_dict = row.to_dict()\\n    start = (row_dict[\\\"STARTLAT\\\"], row_dict[\\\"STARTLON\\\"])\\n    end = (row_dict[\\\"ENDLAT\\\"], row_dict[\\\"ENDLON\\\"])\\n    return int(geodesic(start, end).meters)\\n\\n\\ndf[\\\"DISTANCE_METERS\\\"] = df.apply(distance, axis=1)\\ndf[\\\"DISTANCE_KM\\\"] = df[\\\"DISTANCE_METERS\\\"] / 1000\")\n",
       "            })();\n",
       "            "
      ],
      "text/plain": [
       "<IPython.core.display.Javascript object>"
      ]
     },
     "metadata": {},
     "output_type": "display_data"
    }
   ],
   "source": [
    "import black\n",
    "import jupyter_black\n",
    "\n",
    "# Load jupyter black to format code\n",
    "jupyter_black.load(\n",
    "    lab=False,\n",
    "    line_length=120,\n",
    "    verbosity=\"DEBUG\",\n",
    "    target_version=black.TargetVersion.PY310,\n",
    ")"
   ]
  },
  {
   "cell_type": "markdown",
   "metadata": {},
   "source": [
    "## Load data"
   ]
  },
  {
   "cell_type": "code",
   "execution_count": 16,
   "metadata": {
    "pycharm": {
     "is_executing": true
    }
   },
   "outputs": [
    {
     "data": {
      "text/html": [
       "<div>\n",
       "<style scoped>\n",
       "    .dataframe tbody tr th:only-of-type {\n",
       "        vertical-align: middle;\n",
       "    }\n",
       "\n",
       "    .dataframe tbody tr th {\n",
       "        vertical-align: top;\n",
       "    }\n",
       "\n",
       "    .dataframe thead th {\n",
       "        text-align: right;\n",
       "    }\n",
       "</style>\n",
       "<table border=\"1\" class=\"dataframe\">\n",
       "  <thead>\n",
       "    <tr style=\"text-align: right;\">\n",
       "      <th></th>\n",
       "      <th>Row</th>\n",
       "      <th>STARTTIME</th>\n",
       "      <th>ENDTIME</th>\n",
       "      <th>STARTLAT</th>\n",
       "      <th>STARTLON</th>\n",
       "      <th>ENDLAT</th>\n",
       "      <th>ENDLON</th>\n",
       "      <th>RENTAL_IS_STATION</th>\n",
       "      <th>RENTAL_STATION_NAME</th>\n",
       "      <th>RETURN_IS_STATION</th>\n",
       "      <th>RETURN_STATION_NAME</th>\n",
       "    </tr>\n",
       "  </thead>\n",
       "  <tbody>\n",
       "    <tr>\n",
       "      <th>0</th>\n",
       "      <td>1</td>\n",
       "      <td>2021-01-01 01:01</td>\n",
       "      <td>2021-01-01 01:12</td>\n",
       "      <td>48.12580</td>\n",
       "      <td>11.64784</td>\n",
       "      <td>48.12948</td>\n",
       "      <td>11.62539</td>\n",
       "      <td>1</td>\n",
       "      <td>Kreillerstraße</td>\n",
       "      <td>0</td>\n",
       "      <td></td>\n",
       "    </tr>\n",
       "    <tr>\n",
       "      <th>1</th>\n",
       "      <td>2</td>\n",
       "      <td>2021-01-01 01:19</td>\n",
       "      <td>2021-01-01 01:59</td>\n",
       "      <td>48.12919</td>\n",
       "      <td>11.62583</td>\n",
       "      <td>48.14853</td>\n",
       "      <td>11.53142</td>\n",
       "      <td>0</td>\n",
       "      <td></td>\n",
       "      <td>0</td>\n",
       "      <td></td>\n",
       "    </tr>\n",
       "    <tr>\n",
       "      <th>2</th>\n",
       "      <td>3</td>\n",
       "      <td>2021-01-01 01:48</td>\n",
       "      <td>2021-01-01 02:01</td>\n",
       "      <td>48.08189</td>\n",
       "      <td>11.63264</td>\n",
       "      <td>48.07975</td>\n",
       "      <td>11.61032</td>\n",
       "      <td>1</td>\n",
       "      <td>Universitätsstraße Neubiberg</td>\n",
       "      <td>1</td>\n",
       "      <td>Fasanenpark Ost Neubiberg</td>\n",
       "    </tr>\n",
       "    <tr>\n",
       "      <th>3</th>\n",
       "      <td>4</td>\n",
       "      <td>2021-01-01 01:48</td>\n",
       "      <td>2021-01-01 02:00</td>\n",
       "      <td>48.08189</td>\n",
       "      <td>11.63264</td>\n",
       "      <td>48.07975</td>\n",
       "      <td>11.61032</td>\n",
       "      <td>1</td>\n",
       "      <td>Universitätsstraße Neubiberg</td>\n",
       "      <td>1</td>\n",
       "      <td>Fasanenpark Ost Neubiberg</td>\n",
       "    </tr>\n",
       "    <tr>\n",
       "      <th>4</th>\n",
       "      <td>5</td>\n",
       "      <td>2021-01-01 03:26</td>\n",
       "      <td>2021-01-01 03:39</td>\n",
       "      <td>48.11587</td>\n",
       "      <td>11.62543</td>\n",
       "      <td>48.10900</td>\n",
       "      <td>11.65240</td>\n",
       "      <td>0</td>\n",
       "      <td></td>\n",
       "      <td>0</td>\n",
       "      <td></td>\n",
       "    </tr>\n",
       "    <tr>\n",
       "      <th>...</th>\n",
       "      <td>...</td>\n",
       "      <td>...</td>\n",
       "      <td>...</td>\n",
       "      <td>...</td>\n",
       "      <td>...</td>\n",
       "      <td>...</td>\n",
       "      <td>...</td>\n",
       "      <td>...</td>\n",
       "      <td>...</td>\n",
       "      <td>...</td>\n",
       "      <td>...</td>\n",
       "    </tr>\n",
       "    <tr>\n",
       "      <th>619568</th>\n",
       "      <td>619569</td>\n",
       "      <td>2021-12-31 23:46</td>\n",
       "      <td>2021-12-31 23:51</td>\n",
       "      <td>48.16472</td>\n",
       "      <td>11.51546</td>\n",
       "      <td>48.15935</td>\n",
       "      <td>11.52529</td>\n",
       "      <td>0</td>\n",
       "      <td></td>\n",
       "      <td>0</td>\n",
       "      <td></td>\n",
       "    </tr>\n",
       "    <tr>\n",
       "      <th>619569</th>\n",
       "      <td>619570</td>\n",
       "      <td>2021-12-31 23:48</td>\n",
       "      <td>2021-12-31 23:59</td>\n",
       "      <td>48.12063</td>\n",
       "      <td>11.61786</td>\n",
       "      <td>48.11920</td>\n",
       "      <td>11.63052</td>\n",
       "      <td>1</td>\n",
       "      <td>Innsbrucker Ring</td>\n",
       "      <td>1</td>\n",
       "      <td>Michaelibad</td>\n",
       "    </tr>\n",
       "    <tr>\n",
       "      <th>619570</th>\n",
       "      <td>619571</td>\n",
       "      <td>2021-12-31 23:50</td>\n",
       "      <td>2022-01-01 00:00</td>\n",
       "      <td>48.14251</td>\n",
       "      <td>11.57739</td>\n",
       "      <td>48.13658</td>\n",
       "      <td>11.59283</td>\n",
       "      <td>0</td>\n",
       "      <td></td>\n",
       "      <td>0</td>\n",
       "      <td></td>\n",
       "    </tr>\n",
       "    <tr>\n",
       "      <th>619571</th>\n",
       "      <td>619572</td>\n",
       "      <td>2021-12-31 23:52</td>\n",
       "      <td>2022-01-01 00:00</td>\n",
       "      <td>48.14297</td>\n",
       "      <td>11.57799</td>\n",
       "      <td>48.13659</td>\n",
       "      <td>11.59282</td>\n",
       "      <td>0</td>\n",
       "      <td></td>\n",
       "      <td>0</td>\n",
       "      <td></td>\n",
       "    </tr>\n",
       "    <tr>\n",
       "      <th>619572</th>\n",
       "      <td>619573</td>\n",
       "      <td>2021-12-31 23:58</td>\n",
       "      <td>2022-01-01 00:10</td>\n",
       "      <td>48.14624</td>\n",
       "      <td>11.56255</td>\n",
       "      <td>48.16124</td>\n",
       "      <td>11.58888</td>\n",
       "      <td>0</td>\n",
       "      <td></td>\n",
       "      <td>0</td>\n",
       "      <td></td>\n",
       "    </tr>\n",
       "  </tbody>\n",
       "</table>\n",
       "<p>619573 rows × 11 columns</p>\n",
       "</div>"
      ],
      "text/plain": [
       "        Row     STARTTIME         ENDTIME           STARTLAT  STARTLON   \\\n",
       "0            1  2021-01-01 01:01  2021-01-01 01:12  48.12580   11.64784   \n",
       "1            2  2021-01-01 01:19  2021-01-01 01:59  48.12919   11.62583   \n",
       "2            3  2021-01-01 01:48  2021-01-01 02:01  48.08189   11.63264   \n",
       "3            4  2021-01-01 01:48  2021-01-01 02:00  48.08189   11.63264   \n",
       "4            5  2021-01-01 03:26  2021-01-01 03:39  48.11587   11.62543   \n",
       "...        ...               ...               ...       ...        ...   \n",
       "619568  619569  2021-12-31 23:46  2021-12-31 23:51  48.16472   11.51546   \n",
       "619569  619570  2021-12-31 23:48  2021-12-31 23:59  48.12063   11.61786   \n",
       "619570  619571  2021-12-31 23:50  2022-01-01 00:00  48.14251   11.57739   \n",
       "619571  619572  2021-12-31 23:52  2022-01-01 00:00  48.14297   11.57799   \n",
       "619572  619573  2021-12-31 23:58  2022-01-01 00:10  48.14624   11.56255   \n",
       "\n",
       "        ENDLAT    ENDLON     RENTAL_IS_STATION  \\\n",
       "0       48.12948   11.62539                  1   \n",
       "1       48.14853   11.53142                  0   \n",
       "2       48.07975   11.61032                  1   \n",
       "3       48.07975   11.61032                  1   \n",
       "4       48.10900   11.65240                  0   \n",
       "...          ...        ...                ...   \n",
       "619568  48.15935   11.52529                  0   \n",
       "619569  48.11920   11.63052                  1   \n",
       "619570  48.13658   11.59283                  0   \n",
       "619571  48.13659   11.59282                  0   \n",
       "619572  48.16124   11.58888                  0   \n",
       "\n",
       "        RENTAL_STATION_NAME                           RETURN_IS_STATION  \\\n",
       "0       Kreillerstraße                                                0   \n",
       "1                                                                     0   \n",
       "2       Universitätsstraße Neubiberg                                  1   \n",
       "3       Universitätsstraße Neubiberg                                  1   \n",
       "4                                                                     0   \n",
       "...                                              ...                ...   \n",
       "619568                                                                0   \n",
       "619569  Innsbrucker Ring                                              1   \n",
       "619570                                                                0   \n",
       "619571                                                                0   \n",
       "619572                                                                0   \n",
       "\n",
       "        RETURN_STATION_NAME                           \n",
       "0                                                     \n",
       "1                                                     \n",
       "2       Fasanenpark Ost Neubiberg                     \n",
       "3       Fasanenpark Ost Neubiberg                     \n",
       "4                                                     \n",
       "...                                              ...  \n",
       "619568                                                \n",
       "619569  Michaelibad                                   \n",
       "619570                                                \n",
       "619571                                                \n",
       "619572                                                \n",
       "\n",
       "[619573 rows x 11 columns]"
      ]
     },
     "execution_count": 16,
     "metadata": {},
     "output_type": "execute_result"
    }
   ],
   "source": [
    "import matplotlib.pyplot as plt\n",
    "import pandas as pd\n",
    "import numpy as np\n",
    "\n",
    "df = pd.read_csv(\"MVG_Rad_Fahrten_2021.csv\", delimiter=\";\")\n",
    "df"
   ]
  },
  {
   "cell_type": "markdown",
   "metadata": {},
   "source": [
    "## Understand Data\n",
    "\n",
    "### Check column names\n",
    "\n",
    "First we have a look at the columns in the dataset."
   ]
  },
  {
   "cell_type": "code",
   "execution_count": 14,
   "metadata": {},
   "outputs": [
    {
     "name": "stdout",
     "output_type": "stream",
     "text": [
      "0: 'Row   '\n",
      "1: 'STARTTIME       '\n",
      "2: 'ENDTIME         '\n",
      "3: 'STARTLAT'\n",
      "4: 'STARTLON '\n",
      "5: 'ENDLAT  '\n",
      "6: 'ENDLON   '\n",
      "7: 'RENTAL_IS_STATION'\n",
      "8: 'RENTAL_STATION_NAME                         '\n",
      "9: 'RETURN_IS_STATION'\n",
      "10: 'RETURN_STATION_NAME                         '\n"
     ]
    }
   ],
   "source": [
    "for index, column in enumerate(df.columns):\n",
    "    # Print the column name on a separate line, formatted with a bullet point\n",
    "    print(f\"{index}: '{column}'\")"
   ]
  },
  {
   "cell_type": "markdown",
   "metadata": {},
   "source": [
    "The column names contain whitespaces which would make it hard to work with them in the following code. We remove the whitespace from the column names."
   ]
  },
  {
   "cell_type": "code",
   "execution_count": 18,
   "metadata": {},
   "outputs": [],
   "source": [
    "# Remove whitespace from column names\n",
    "df.columns = df.columns.str.replace(\" \", \"\")"
   ]
  },
  {
   "cell_type": "markdown",
   "metadata": {},
   "source": [
    "### Check the datatypes\n"
   ]
  },
  {
   "cell_type": "code",
   "execution_count": 15,
   "metadata": {},
   "outputs": [
    {
     "data": {
      "text/plain": [
       "Row                                               int64\n",
       "STARTTIME                                        object\n",
       "ENDTIME                                          object\n",
       "STARTLAT                                        float64\n",
       "STARTLON                                        float64\n",
       "ENDLAT                                          float64\n",
       "ENDLON                                          float64\n",
       "RENTAL_IS_STATION                                 int64\n",
       "RENTAL_STATION_NAME                              object\n",
       "RETURN_IS_STATION                                 int64\n",
       "RETURN_STATION_NAME                              object\n",
       "dtype: object"
      ]
     },
     "execution_count": 15,
     "metadata": {},
     "output_type": "execute_result"
    }
   ],
   "source": [
    "# print column datatypes\n",
    "df.dtypes"
   ]
  },
  {
   "cell_type": "markdown",
   "metadata": {},
   "source": [
    "The STARTTIME and ENDTIME columns are datetime columns but don't have the correct format. We convert them to datetime."
   ]
  },
  {
   "cell_type": "code",
   "execution_count": 19,
   "metadata": {},
   "outputs": [],
   "source": [
    "# Convert datetime columns to datetime type\n",
    "df[\"STARTTIME\"] = pd.to_datetime(df[\"STARTTIME\"], format=\"%Y-%m-%d %H:%M\")\n",
    "df[\"ENDTIME\"] = pd.to_datetime(df[\"ENDTIME\"], format=\"%Y-%m-%d %H:%M\")"
   ]
  },
  {
   "cell_type": "markdown",
   "metadata": {},
   "source": [
    "### Check for null/na values"
   ]
  },
  {
   "cell_type": "code",
   "execution_count": 21,
   "metadata": {
    "scrolled": true
   },
   "outputs": [
    {
     "data": {
      "text/plain": [
       "False"
      ]
     },
     "execution_count": 21,
     "metadata": {},
     "output_type": "execute_result"
    }
   ],
   "source": [
    "# Check for null values\n",
    "df.isnull().any().any()"
   ]
  },
  {
   "cell_type": "markdown",
   "metadata": {},
   "source": [
    "The data does not contain any missing values.\n",
    "\n",
    "### Check for empty strings"
   ]
  },
  {
   "cell_type": "code",
   "execution_count": 24,
   "metadata": {
    "scrolled": true
   },
   "outputs": [
    {
     "data": {
      "text/plain": [
       "Row                    False\n",
       "STARTTIME              False\n",
       "ENDTIME                False\n",
       "STARTLAT               False\n",
       "STARTLON               False\n",
       "ENDLAT                 False\n",
       "ENDLON                 False\n",
       "RENTAL_IS_STATION      False\n",
       "RENTAL_STATION_NAME    False\n",
       "RETURN_IS_STATION      False\n",
       "RETURN_STATION_NAME    False\n",
       "dtype: bool"
      ]
     },
     "execution_count": 24,
     "metadata": {},
     "output_type": "execute_result"
    }
   ],
   "source": [
    "# Check for empty strings\n",
    "df.eq(\"\").any()"
   ]
  },
  {
   "cell_type": "markdown",
   "metadata": {},
   "source": [
    "No empty strings have been found."
   ]
  },
  {
   "cell_type": "markdown",
   "metadata": {},
   "source": [
    "### Check for values with low variance\n",
    "\n",
    "The variance of all values is in the expected ranges. The two columns with very little variance (RENTAL_IS_STATION and RETURN_IS_STATION) contain boolean values, so 2 is expected."
   ]
  },
  {
   "cell_type": "code",
   "execution_count": 23,
   "metadata": {},
   "outputs": [
    {
     "data": {
      "text/plain": [
       "Row                    619573\n",
       "STARTTIME              272997\n",
       "ENDTIME                273299\n",
       "STARTLAT                14609\n",
       "STARTLON                19791\n",
       "ENDLAT                  15751\n",
       "ENDLON                  21161\n",
       "RENTAL_IS_STATION           2\n",
       "RENTAL_STATION_NAME       321\n",
       "RETURN_IS_STATION           2\n",
       "RETURN_STATION_NAME       319\n",
       "dtype: int64"
      ]
     },
     "execution_count": 23,
     "metadata": {},
     "output_type": "execute_result"
    }
   ],
   "source": [
    "nunique_values = df.nunique()\n",
    "nunique_values"
   ]
  },
  {
   "cell_type": "markdown",
   "metadata": {},
   "source": [
    "## Data Preparation\n",
    "\n",
    "### Calculating the distance\n",
    "\n",
    "The distance between two points on earth can be calculated using the `geopy` library."
   ]
  },
  {
   "cell_type": "code",
   "execution_count": 26,
   "metadata": {
    "pycharm": {
     "is_executing": true
    }
   },
   "outputs": [],
   "source": [
    "# Calculate distance between rental and return\n",
    "from geopy.distance import geodesic\n",
    "\n",
    "\n",
    "def distance(row):\n",
    "    \"\"\"\n",
    "    Calculate the distance between two points (in meters) using their latitudes and longitudes.\n",
    "\n",
    "    :param row: A pandas dataframe row containing the latitudes and longitudes of the start and end points.\n",
    "                (columns: STARTLAT, STARTLON, ENDLAT, ENDLON)\n",
    "    :return: The distance between the start and end points, in meters.\n",
    "    \"\"\"\n",
    "    row_dict = row.to_dict()\n",
    "    start = (row_dict[\"STARTLAT\"], row_dict[\"STARTLON\"])\n",
    "    end = (row_dict[\"ENDLAT\"], row_dict[\"ENDLON\"])\n",
    "    return int(geodesic(start, end).meters)\n",
    "\n",
    "\n",
    "df[\"DISTANCE_METERS\"] = df.apply(distance, axis=1)\n",
    "df[\"DISTANCE_KM\"] = df[\"DISTANCE_METERS\"] / 1000"
   ]
  },
  {
   "cell_type": "markdown",
   "metadata": {},
   "source": [
    "## Answers to the questions\n",
    "\n",
    "### How long do people usually rent these bikes?\n",
    "\n",
    "First we need to calculate the duration of the trips from the start and end timestamps."
   ]
  },
  {
   "cell_type": "code",
   "execution_count": null,
   "metadata": {
    "pycharm": {
     "is_executing": true
    }
   },
   "outputs": [],
   "source": [
    "# Calculate duration of ride\n",
    "def duration(row):\n",
    "    \"\"\"\n",
    "    Calculate the duration (in minutes) of a trip using the start and end times.\n",
    "\n",
    "    :param row: A pandas dataframe row containing the start and end times of a trip.\n",
    "                (columns: STARTTIME, ENDTIME)\n",
    "    :return: The duration of the trip, in minutes.\n",
    "    \"\"\"\n",
    "    row_dict = row.to_dict()\n",
    "    delta_minutes = (row_dict[\"ENDTIME\"] - row_dict[\"STARTTIME\"]).total_seconds() / 60.0\n",
    "    return delta_minutes\n",
    "\n",
    "df[\"DURATION_MINUTES\"] = df.apply(duration, axis=1)"
   ]
  },
  {
   "cell_type": "markdown",
   "metadata": {},
   "source": [
    "Then we create a histogram as table and as graph to get the answer to our question."
   ]
  },
  {
   "cell_type": "code",
   "execution_count": null,
   "metadata": {
    "pycharm": {
     "is_executing": true
    }
   },
   "outputs": [],
   "source": [
    "# Define the bin edges and labels\n",
    "bin_edges = [0, 2, 5, 10, 15, 30, 60, 240, 1440, np.inf]\n",
    "bin_labels = ['0-2 min','2-5 min', '5-10 min', '10-15 min', '15-30 min', '30-60 min', '1-4h', '4h-1day', '1day+']\n",
    "\n",
    "# Create a new column with the binned values\n",
    "df['DURATION_MINUTES_BINNED'] = pd.cut(df['DURATION_MINUTES'], bins=bin_edges, labels=bin_labels)\n",
    "duration_value_counts = df['DURATION_MINUTES_BINNED'].value_counts()\n",
    "\n",
    "# Convert the value counts to a dataframe and sort by index\n",
    "duration_histogram_df = pd.DataFrame({'Count': duration_value_counts}).sort_index()\n",
    "print(duration_histogram_df)"
   ]
  },
  {
   "cell_type": "code",
   "execution_count": null,
   "metadata": {
    "pycharm": {
     "is_executing": true
    }
   },
   "outputs": [],
   "source": [
    "# Create the bar chart using Matplotlib\n",
    "plt.figure(figsize=(7,5))\n",
    "plt.bar(duration_histogram_df.index, duration_histogram_df['Count'], color='#FFC2C4')\n",
    "\n",
    "# Set the title and axis labels\n",
    "plt.title('Durations from rental start until return')\n",
    "plt.xlabel('Duration in Minutes')\n",
    "plt.ylabel('Rentals')\n",
    "\n",
    "# Set the x-axis tick labels to the bin labels\n",
    "plt.xticks(rotation=45, ha='right')\n",
    "\n",
    "# Show the plot\n",
    "plot = plt.plot()"
   ]
  },
  {
   "cell_type": "markdown",
   "metadata": {},
   "source": [
    "#### Answer\n",
    "\n",
    "So the answer to the question \"How long do people usually rent these bikes?\" is that most people rent the bikes from **5-30 Minutes**. I am a bit surprised about the rentals under 5 minutes and guess these are issues when renting the bikes as it probably doesn't make sense to rent a bike for this duration."
   ]
  },
  {
   "cell_type": "markdown",
   "metadata": {},
   "source": [
    "### How far do they travel with them?\n",
    "\n",
    "Again we create a histogram as table and as graph to get the answer to our question."
   ]
  },
  {
   "cell_type": "code",
   "execution_count": null,
   "metadata": {
    "pycharm": {
     "is_executing": true
    }
   },
   "outputs": [],
   "source": [
    "# Define the bin edges and labels\n",
    "bin_edges = [0, 10, 20, 30, 40, 50, 75, 150, 300, np.inf]\n",
    "bin_labels = ['0-10', '10-20', '20-30', '30-40', '40-50', '50-75', '75-150', '150-300', '300+']\n",
    "\n",
    "# Create a new column with the binned values\n",
    "df['binned'] = pd.cut(df['DISTANCE_KM'], bins=bin_edges, labels=bin_labels)\n",
    "value_counts = df['binned'].value_counts()\n",
    "\n",
    "# Convert the value counts to a dataframe and sort by index\n",
    "histogram_df = pd.DataFrame({'Count': value_counts}).sort_index()\n",
    "\n",
    "print(histogram_df)"
   ]
  },
  {
   "cell_type": "code",
   "execution_count": null,
   "metadata": {
    "pycharm": {
     "is_executing": true
    }
   },
   "outputs": [],
   "source": [
    "# Create the bar chart using Matplotlib\n",
    "plt.figure(figsize=(7,5))\n",
    "plt.bar(histogram_df.index, histogram_df['Count'], color='#FDD98D')\n",
    "\n",
    "# Set the title and axis labels\n",
    "plt.title('Histogram of binned Distance in km')\n",
    "plt.xlabel('Distance in KM')\n",
    "plt.ylabel('Rentals')\n",
    "\n",
    "# Set the x-axis tick labels to the bin labels\n",
    "plt.xticks(rotation=45, ha='right')\n",
    "\n",
    "# Show the plot\n",
    "plot = plt.plot()"
   ]
  },
  {
   "cell_type": "markdown",
   "metadata": {},
   "source": [
    "#### Answer (First attempt)\n",
    "\n",
    "So the answer to the question \"How far do they travel with them?\" is that most people travel less than **10km** with them.\n",
    "\n",
    "But then we see that there is a high number of people going over 300km with the MVG bikes which seems to be highly unlikely.\n",
    "\n",
    "Also we can't account for people who take a bike, but then put the bike near where they took it. The distance between start and end is small, but they could have biked a longer distance.\n",
    "\n",
    "#### Cleanup for second attempt\n",
    "\n",
    "So for our second attempt we want to sanitize the data a bit more. We can do this by adding the speed to the dataframe."
   ]
  },
  {
   "cell_type": "code",
   "execution_count": null,
   "metadata": {
    "pycharm": {
     "is_executing": true
    }
   },
   "outputs": [],
   "source": [
    "# Calculate speed of ride\n",
    "\n",
    "def speed(row):\n",
    "    \"\"\"\n",
    "    Calculate the speed (in kilometers per hour) of a trip using its duration and distance.\n",
    "\n",
    "    :param row: A pandas dataframe row containing the duration and distance of a trip.\n",
    "                (columns: DURATION_MINUTES, DISTANCE_METERS)    \n",
    "    :return: The speed of the trip, in kilometers per hour.\n",
    "    \n",
    "    row_dict = row.to_dict()\n",
    "    per_hour = (row_dict[\"DURATION_MINUTES\"] / 60.0)\n",
    "    if per_hour > 0:\n",
    "        return (row_dict[\"DISTANCE_METERS\"] / 1000.0) / per_hour\n",
    "    else:\n",
    "        return 0\n",
    "\n",
    "df[\"SPEED\"] = df.apply(speed, axis=1)"
   ]
  },
  {
   "cell_type": "markdown",
   "metadata": {},
   "source": [
    "Now we just take the data from 5 - 30 km/h, so we get people who probably were constantly biking and haven't returned the bike near the start destination (they would have a very low speed than in this calculation)."
   ]
  },
  {
   "cell_type": "code",
   "execution_count": null,
   "metadata": {
    "pycharm": {
     "is_executing": true
    }
   },
   "outputs": [],
   "source": [
    "# Calculate dataframe with only valid speed\n",
    "df_valid_speed = df.query(\"SPEED > 4 and SPEED < 31\").copy()"
   ]
  },
  {
   "cell_type": "code",
   "execution_count": null,
   "metadata": {
    "pycharm": {
     "is_executing": true
    }
   },
   "outputs": [],
   "source": [
    "# Define the bin edges and labels\n",
    "bin_edges = [0, 10, 20, 30, 40, 50, 75, 150, 300, np.inf]\n",
    "bin_labels = ['0-10', '10-20', '20-30', '30-40', '40-50', '50-75', '75-150', '150-300', '300+']\n",
    "\n",
    "# Create a new column with the binned values\n",
    "df_valid_speed['DISTANCE_SPEED_CORRECTED_BINNED'] = pd.cut(df_valid_speed['DISTANCE_KM'], bins=bin_edges, labels=bin_labels)\n",
    "value_counts = df_valid_speed['DISTANCE_SPEED_CORRECTED_BINNED'].value_counts()\n",
    "\n",
    "# Convert the value counts to a dataframe and sort by index\n",
    "histogram_df = pd.DataFrame({'Count': value_counts}).sort_index()\n",
    "\n",
    "print(histogram_df)"
   ]
  },
  {
   "cell_type": "code",
   "execution_count": null,
   "metadata": {
    "pycharm": {
     "is_executing": true
    }
   },
   "outputs": [],
   "source": [
    "# Create the bar chart using Matplotlib\n",
    "plt.figure(figsize=(7,5))\n",
    "plt.bar(histogram_df.index, histogram_df['Count'], color='#C3E09F')\n",
    "\n",
    "# Set the title and axis labels\n",
    "plt.title('Histogram of binned Distance in km')\n",
    "plt.xlabel('Distance in KM')\n",
    "plt.ylabel('Rentals')\n",
    "\n",
    "# Set the x-axis tick labels to the bin labels\n",
    "plt.xticks(rotation=45, ha='right')\n",
    "\n",
    "# Show the plot\n",
    "plot = plt.plot()"
   ]
  },
  {
   "cell_type": "markdown",
   "metadata": {},
   "source": [
    "#### Answer (second attempt)\n",
    "So the answer to the question “How far do they travel with them?” is still that most people travel less than 10km with them.\n",
    "\n",
    "The number of people going over 300km has reduced (filtered out). As a future task it would be interesting to analyze these high distance trips and find out if these are real or something went wrong.\n",
    "\n",
    "### Do people often use them complementary to the other public transport?\n",
    "\n",
    "Check if the start or end of a rental is a public transport station."
   ]
  },
  {
   "cell_type": "code",
   "execution_count": null,
   "metadata": {
    "pycharm": {
     "is_executing": true
    }
   },
   "outputs": [],
   "source": [
    "# Get total number of rentals\n",
    "total_number_of_rentals = df['STARTTIME'].count()\n",
    "total_number_of_rentals"
   ]
  },
  {
   "cell_type": "code",
   "execution_count": null,
   "metadata": {
    "pycharm": {
     "is_executing": true
    }
   },
   "outputs": [],
   "source": [
    "# Get number of rentals which start or end at a station\n",
    "return_is_station = df.query(\"(RENTAL_IS_STATION == 1) or (RETURN_IS_STATION == 1)\")['STARTTIME'].count()\n",
    "return_is_station"
   ]
  },
  {
   "cell_type": "code",
   "execution_count": null,
   "metadata": {
    "pycharm": {
     "is_executing": true
    }
   },
   "outputs": [],
   "source": [
    "labels = ['Station based', 'Free floating']\n",
    "sizes = [return_is_station, total_number_of_rentals - return_is_station]\n",
    "fig1, ax1 = plt.subplots()\n",
    "ax1.pie(sizes, labels=labels, autopct='%1.1f%%', startangle=90)\n",
    "ax1.axis('equal')  # Equal aspect ratio ensures that pie is drawn as a circle.\n",
    "\n",
    "plt.show()"
   ]
  },
  {
   "cell_type": "markdown",
   "metadata": {},
   "source": [
    "#### Answer\n",
    "\n",
    "The answer to the question \"Do people often use them complementary to the other public transport?\" is: Yes many people (about 42%) use the bikes to complement public transport, but also many (about 58%) people use the bikes independently from public transport."
   ]
  }
 ],
 "metadata": {
  "kernelspec": {
   "display_name": "Python 3 (ipykernel)",
   "language": "python",
   "name": "python3"
  },
  "language_info": {
   "codemirror_mode": {
    "name": "ipython",
    "version": 3
   },
   "file_extension": ".py",
   "mimetype": "text/x-python",
   "name": "python",
   "nbconvert_exporter": "python",
   "pygments_lexer": "ipython3",
   "version": "3.11.2"
  }
 },
 "nbformat": 4,
 "nbformat_minor": 1
}
